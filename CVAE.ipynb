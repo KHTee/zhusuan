{
  "nbformat": 4,
  "nbformat_minor": 0,
  "metadata": {
    "colab": {
      "name": "CVAE.ipynb",
      "provenance": [],
      "collapsed_sections": [],
      "mount_file_id": "1hdPxG7nsh7kUXNR49lKIwZnXjisYvofg",
      "authorship_tag": "ABX9TyOy92h+n9uG32a6P+DSQVqE",
      "include_colab_link": true
    },
    "kernelspec": {
      "name": "python3",
      "display_name": "Python 3"
    },
    "accelerator": "GPU"
  },
  "cells": [
    {
      "cell_type": "markdown",
      "metadata": {
        "id": "view-in-github",
        "colab_type": "text"
      },
      "source": [
        "<a href=\"https://colab.research.google.com/github/KHTee/zhusuan/blob/master/CVAE.ipynb\" target=\"_parent\"><img src=\"https://colab.research.google.com/assets/colab-badge.svg\" alt=\"Open In Colab\"/></a>"
      ]
    },
    {
      "cell_type": "code",
      "metadata": {
        "colab": {
          "base_uri": "https://localhost:8080/"
        },
        "id": "3706im8dUZL8",
        "outputId": "522b3957-9097-4bf9-d005-dc18c42daf91"
      },
      "source": [
        "%tensorflow_version 1.x"
      ],
      "execution_count": 1,
      "outputs": [
        {
          "output_type": "stream",
          "text": [
            "TensorFlow 1.x selected.\n"
          ],
          "name": "stdout"
        }
      ]
    },
    {
      "cell_type": "code",
      "metadata": {
        "colab": {
          "base_uri": "https://localhost:8080/"
        },
        "id": "j9MSd-QyTECg",
        "outputId": "d34a65ce-bfec-40fb-c7d0-e422233dfa2e"
      },
      "source": [
        "from __future__ import absolute_import\r\n",
        "from __future__ import print_function\r\n",
        "from __future__ import division\r\n",
        "\r\n",
        "import sys\r\n",
        "sys.path.append('/content/drive/MyDrive/Colab Notebooks/zhusuan')\r\n",
        "import zhusuan as zs\r\n",
        "\r\n",
        "import os\r\n",
        "import time\r\n",
        "import numpy as np\r\n",
        "import six\r\n",
        "from six.moves import cPickle as pickle\r\n",
        "import matplotlib.pyplot as plt\r\n",
        "import tensorflow as tf\r\n",
        "from tensorflow.keras.utils import to_categorical\r\n",
        "from keras.datasets import mnist\r\n",
        "\r\n",
        "sys.path.append('//content/drive/MyDrive/Colab Notebooks/zhusuan/examples')\r\n",
        "import conf\r\n",
        "from utils import save_image_collections"
      ],
      "execution_count": 2,
      "outputs": [
        {
          "output_type": "stream",
          "text": [
            "Using TensorFlow backend.\n"
          ],
          "name": "stderr"
        }
      ]
    },
    {
      "cell_type": "code",
      "metadata": {
        "colab": {
          "base_uri": "https://localhost:8080/"
        },
        "id": "uULbXUGkVQgY",
        "outputId": "ca8f27d1-50ab-4b3e-d8c7-a2e3fe7702d3"
      },
      "source": [
        "@zs.meta_bayesian_net(scope=\"gen\", reuse_variables=True)\r\n",
        "def build_gen(y, x_dim, z_dim, y_dim, n):\r\n",
        "    bn = zs.BayesianNet()\r\n",
        "    z_mean = tf.zeros([n, z_dim])\r\n",
        "    z = bn.normal(\"z\", z_mean, std=1., group_ndims=1)\r\n",
        "    \r\n",
        "    # Concatenate z and y\r\n",
        "    z = tf.concat(axis=1, values=[z,y])\r\n",
        "\r\n",
        "    # x_logits = f_NN(z)\r\n",
        "    h = tf.layers.dense(z, 500, activation=tf.nn.relu)\r\n",
        "    h = tf.layers.dense(h, 500, activation=tf.nn.relu)\r\n",
        "    x_logits = tf.layers.dense(h, x_dim)\r\n",
        "    bn.deterministic(\"x_mean\", tf.sigmoid(x_logits))\r\n",
        "\r\n",
        "    # add observation distribution (noise)\r\n",
        "    bn.bernoulli(\"x\", x_logits, group_ndims=1, dtype=tf.float32)\r\n",
        "    return bn\r\n",
        "\r\n",
        "@zs.reuse_variables(scope=\"q_net\")\r\n",
        "def build_q_net(x, y, z_dim, y_dim):\r\n",
        "    bn = zs.BayesianNet()\r\n",
        "    # concatenate x and y\r\n",
        "    x = tf.concat(axis=1, values=[x,y])\r\n",
        "    h = tf.layers.dense(x, 500, activation=tf.nn.relu)\r\n",
        "    h = tf.layers.dense(h, 500, activation=tf.nn.relu)\r\n",
        "    z_mean = tf.layers.dense(h, z_dim)\r\n",
        "    z_logstd = tf.layers.dense(h, z_dim)\r\n",
        "    bn.normal(\"z\", z_mean, logstd=z_logstd, group_ndims=1)\r\n",
        "    return bn"
      ],
      "execution_count": 3,
      "outputs": [
        {
          "output_type": "stream",
          "text": [
            "WARNING:tensorflow:From /content/drive/MyDrive/Colab Notebooks/zhusuan/zhusuan/framework/utils.py:106: The name tf.make_template is deprecated. Please use tf.compat.v1.make_template instead.\n",
            "\n"
          ],
          "name": "stdout"
        }
      ]
    },
    {
      "cell_type": "code",
      "metadata": {
        "colab": {
          "base_uri": "https://localhost:8080/"
        },
        "id": "cXuPUruYV_IZ",
        "outputId": "f586440a-7041-448f-ed14-e6272bf8e7e0"
      },
      "source": [
        "# load train and test data using Keras API.\r\n",
        "(x_train, y_train_temp), (x_test, y_test_temp) = mnist.load_data()\r\n",
        "x_train = x_train.reshape(x_train.shape[0],784)/255\r\n",
        "x_test = x_test.reshape(x_test.shape[0],784)/255\r\n",
        "\r\n",
        "# draw samples from binomial distribution\r\n",
        "x_train = np.random.binomial(1, x_train, size=x_train.shape).astype(np.float32)\r\n",
        "x_test = np.random.binomial(1, x_test, size=x_test.shape).astype(np.float32)\r\n",
        "x_dim = x_train.shape[1]    \r\n",
        "\r\n",
        "# Convert label into one-hot vector\r\n",
        "y_train = to_categorical(np.array(y_train_temp))\r\n",
        "y_test = to_categorical(np.array(y_test_temp))\r\n",
        "y_dim = y_train.shape[1]\r\n",
        "\r\n",
        "# class vector\r\n",
        "input_data = to_categorical(np.arange(10))\r\n",
        "\r\n",
        "# Define model parameters\r\n",
        "z_dim = 10\r\n",
        "\r\n",
        "# Build the computation graph\r\n",
        "x = tf.placeholder(tf.float32, shape=[None, x_dim], name=\"x\")\r\n",
        "y = tf.placeholder(tf.float32, shape=[None, y_dim], name=\"y\")\r\n",
        "n = tf.placeholder(tf.int32, shape=[], name=\"n\")\r\n",
        "\r\n",
        "model = build_gen(y, x_dim, z_dim, y_dim, n)\r\n",
        "variational = build_q_net(x, y, z_dim, y_dim)\r\n",
        "\r\n",
        "lower_bound = zs.variational.elbo(model, {\"x\": x}, variational=variational)\r\n",
        "cost = tf.reduce_mean(lower_bound.sgvb())\r\n",
        "lower_bound = tf.reduce_mean(lower_bound)\r\n",
        "\r\n",
        "optimizer = tf.train.AdamOptimizer(learning_rate=0.001)\r\n",
        "infer_op = optimizer.minimize(cost)\r\n",
        "\r\n",
        "# Random generation\r\n",
        "x_gen = tf.reshape(model.observe()[\"x_mean\"], [-1, 28, 28, 1])"
      ],
      "execution_count": 4,
      "outputs": [
        {
          "output_type": "stream",
          "text": [
            "WARNING:tensorflow:From <ipython-input-3-6b573b6c194c>:27: dense (from tensorflow.python.layers.core) is deprecated and will be removed in a future version.\n",
            "Instructions for updating:\n",
            "Use keras.layers.Dense instead.\n",
            "WARNING:tensorflow:From /tensorflow-1.15.2/python3.6/tensorflow_core/python/layers/core.py:187: Layer.apply (from tensorflow.python.keras.engine.base_layer) is deprecated and will be removed in a future version.\n",
            "Instructions for updating:\n",
            "Please use `layer.__call__` method instead.\n",
            "WARNING:tensorflow:From /content/drive/MyDrive/Colab Notebooks/zhusuan/zhusuan/distributions/univariate.py:167: The name tf.random_normal is deprecated. Please use tf.random.normal instead.\n",
            "\n",
            "WARNING:tensorflow:From /content/drive/MyDrive/Colab Notebooks/zhusuan/zhusuan/distributions/univariate.py:100: The name tf.log is deprecated. Please use tf.math.log instead.\n",
            "\n",
            "WARNING:tensorflow:From /tensorflow-1.15.2/python3.6/tensorflow_core/python/ops/nn_impl.py:183: where (from tensorflow.python.ops.array_ops) is deprecated and will be removed in a future version.\n",
            "Instructions for updating:\n",
            "Use tf.where in 2.0, which has the same broadcast rule as np.where\n"
          ],
          "name": "stdout"
        }
      ]
    },
    {
      "cell_type": "code",
      "metadata": {
        "colab": {
          "base_uri": "https://localhost:8080/",
          "height": 312
        },
        "id": "0xuG5oY5WEHW",
        "outputId": "481bf4a9-abc3-423c-b4ae-8502bfcab22e"
      },
      "source": [
        "start = time.process_time()\r\n",
        "epochs = 100\r\n",
        "batch_size = 32\r\n",
        "iters = x_train.shape[0] // batch_size\r\n",
        "\r\n",
        "lb_list = []\r\n",
        "# Run the Inference\r\n",
        "with tf.Session() as sess:\r\n",
        "    sess.run(tf.global_variables_initializer())\r\n",
        "\r\n",
        "    for epoch in range(epochs):\r\n",
        "        time_epoch = -time.time()\r\n",
        "        lbs = []\r\n",
        "        for t in range(iters):\r\n",
        "            x_batch = x_train[t * batch_size:(t + 1) * batch_size]\r\n",
        "            y_batch = y_train[t * batch_size:(t + 1) * batch_size]\r\n",
        "            _, lb = sess.run([infer_op, lower_bound],\r\n",
        "                              feed_dict={x: x_batch,\r\n",
        "                                        y: y_batch,\r\n",
        "                                        n: batch_size})\r\n",
        "            lbs.append(lb)\r\n",
        "        time_epoch += time.time()\r\n",
        "        mean_lb = np.mean(lbs)\r\n",
        "        # print(\"Epoch {} ({:.1f}s): Lower bound = {}\".format(epoch+1, time_epoch, mean_lb))\r\n",
        "        lb_list.append(mean_lb)\r\n",
        "        \r\n",
        "        img = sess.run(x_gen, feed_dict={y: input_data, n: 10})\r\n",
        "        name = os.path.join(\"/content/drive/MyDrive/output_img\", \"epoch_{}.png\".format(epoch+1))\r\n",
        "        save_image_collections(img, name, shape=(1, 10))\r\n",
        "\r\n",
        "print('Time taken for 100 epoch: {}'.format(time.process_time() - start))\r\n",
        "plt.plot(lb_list)\r\n",
        "plt.title('Lower bound against epoch')\r\n",
        "plt.xlabel('Epoch')\r\n",
        "plt.ylabel('Lower Bound')\r\n",
        "plt.savefig(os.path.join(\"/content/drive/MyDrive/output_img\", \"lower_bound.png\"))"
      ],
      "execution_count": 5,
      "outputs": [
        {
          "output_type": "stream",
          "text": [
            "Time taken for 100 epoch: 802.113562948\n"
          ],
          "name": "stdout"
        },
        {
          "output_type": "display_data",
          "data": {
            "image/png": "[encoded data removed]",
            "text/plain": [
              "<Figure size 432x288 with 1 Axes>"
            ]
          },
          "metadata": {
            "tags": [],
            "needs_background": "light"
          }
        }
      ]
    }
  ]
}